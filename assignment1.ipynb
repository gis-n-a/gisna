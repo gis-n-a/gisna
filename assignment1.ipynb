{
  "nbformat": 4,
  "nbformat_minor": 0,
  "metadata": {
    "colab": {
      "provenance": []
    },
    "kernelspec": {
      "name": "python3",
      "display_name": "Python 3"
    },
    "language_info": {
      "name": "python"
    }
  },
  "cells": [
    {
      "cell_type": "code",
      "execution_count": null,
      "metadata": {
        "colab": {
          "base_uri": "https://localhost:8080/"
        },
        "id": "7v4axBbIhmbh",
        "outputId": "15eba49d-32a1-4025-f128-5edc8ed2a5f5"
      },
      "outputs": [
        {
          "output_type": "stream",
          "name": "stdout",
          "text": [
            "enter first number56\n",
            "enter second number67\n",
            "123\n"
          ]
        }
      ],
      "source": [
        "a=int(input('enter first number'))\n",
        "b= int(input('enter second number'))\n",
        "s=a+b\n",
        "print(s)"
      ]
    },
    {
      "cell_type": "code",
      "source": [
        "a=int(input('enter first number'))\n",
        "b=int(input('enter the second number'))\n",
        "S=a*b\n",
        "print(S)"
      ],
      "metadata": {
        "colab": {
          "base_uri": "https://localhost:8080/"
        },
        "id": "rJ8j51rCihWa",
        "outputId": "bbe3a947-5980-45bf-a1c2-f73850fa1644"
      },
      "execution_count": null,
      "outputs": [
        {
          "output_type": "stream",
          "name": "stdout",
          "text": [
            "enter first number4\n",
            "enter the second number6\n",
            "24\n"
          ]
        }
      ]
    },
    {
      "cell_type": "code",
      "source": [
        "\n",
        "a=int(input('enter the first number'))\n",
        "b=int(input('enter the second number'))\n",
        "s=a/b\n",
        "r=a%b\n",
        "print(s)\n",
        "print(r)"
      ],
      "metadata": {
        "colab": {
          "base_uri": "https://localhost:8080/"
        },
        "id": "Zb6LtknCjOiJ",
        "outputId": "7a516792-ebfa-49a6-c2e0-c72ab16d73ed"
      },
      "execution_count": null,
      "outputs": [
        {
          "output_type": "stream",
          "name": "stdout",
          "text": [
            "enter the first number10\n",
            "enter the second number5\n",
            "2.0\n",
            "0\n"
          ]
        }
      ]
    },
    {
      "cell_type": "code",
      "source": [
        "a = input(\"enter a string  \")\n",
        "\n",
        "len(a)"
      ],
      "metadata": {
        "colab": {
          "base_uri": "https://localhost:8080/"
        },
        "id": "NQZJ6gXqlylo",
        "outputId": "a5f68556-dd0b-48fc-eecd-2c6724edf06a"
      },
      "execution_count": null,
      "outputs": [
        {
          "name": "stdout",
          "output_type": "stream",
          "text": [
            "enter a string  intractive\n"
          ]
        },
        {
          "output_type": "execute_result",
          "data": {
            "text/plain": [
              "10"
            ]
          },
          "metadata": {},
          "execution_count": 6
        }
      ]
    },
    {
      "cell_type": "code",
      "source": [
        "a = input(\"enter a string \")\n",
        "count=a.count('u')\n",
        "print(count)"
      ],
      "metadata": {
        "colab": {
          "base_uri": "https://localhost:8080/"
        },
        "id": "s7AUAIowa4Uf",
        "outputId": "130bea8d-f69e-46c3-c22c-29e0ef332bdd"
      },
      "execution_count": null,
      "outputs": [
        {
          "output_type": "stream",
          "name": "stdout",
          "text": [
            "enter a string umbrella\n",
            "1\n"
          ]
        }
      ]
    },
    {
      "cell_type": "code",
      "source": [
        "s =input(\"enter a string \")\n",
        "r=s.upper()\n",
        "print(r)\n"
      ],
      "metadata": {
        "colab": {
          "base_uri": "https://localhost:8080/"
        },
        "id": "STNobjsLdaUo",
        "outputId": "6c56bfd1-f61f-46c3-9356-efaeed6451ba"
      },
      "execution_count": null,
      "outputs": [
        {
          "output_type": "stream",
          "name": "stdout",
          "text": [
            "enter a string TTTITDIT\n",
            "TTTITDIT\n"
          ]
        }
      ]
    },
    {
      "cell_type": "code",
      "source": [
        "f=s.lower()\n",
        "print(f)\n"
      ],
      "metadata": {
        "colab": {
          "base_uri": "https://localhost:8080/"
        },
        "id": "vEJZKiBseyPL",
        "outputId": "df11425a-917a-4876-89db-079ac36d7c30"
      },
      "execution_count": null,
      "outputs": [
        {
          "output_type": "stream",
          "name": "stdout",
          "text": [
            "tttitdit\n"
          ]
        }
      ]
    }
  ]
}