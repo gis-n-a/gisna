{
  "nbformat": 4,
  "nbformat_minor": 0,
  "metadata": {
    "colab": {
      "provenance": []
    },
    "kernelspec": {
      "name": "python3",
      "display_name": "Python 3"
    },
    "language_info": {
      "name": "python"
    }
  },
  "cells": [
    {
      "cell_type": "code",
      "source": [
        "#Area of rectangle"
      ],
      "metadata": {
        "id": "dDCqMXcJxVdF"
      },
      "execution_count": null,
      "outputs": []
    },
    {
      "cell_type": "code",
      "execution_count": null,
      "metadata": {
        "colab": {
          "base_uri": "https://localhost:8080/"
        },
        "id": "eR5IOIT5xHnm",
        "outputId": "4e1976a1-a5ce-40ed-d4bd-07bcca799764"
      },
      "outputs": [
        {
          "output_type": "stream",
          "name": "stdout",
          "text": [
            "enter a number6\n",
            "enter a number7\n",
            "42\n"
          ]
        }
      ],
      "source": [
        "height=int(input('enter a number'))\n",
        "weidth = int(input('enter a number'))\n",
        "a =height*weidth\n",
        "print(a)"
      ]
    },
    {
      "cell_type": "markdown",
      "source": [
        "create a program that takes two number from the user and calculates their sum,diffrence,product,quotient"
      ],
      "metadata": {
        "id": "X9oePhRA0MXM"
      }
    },
    {
      "cell_type": "code",
      "source": [
        "a=int(input('enter a number'))\n",
        "b=int(input('enter a number'))\n",
        "s=a+b\n",
        "r=a-b\n",
        "t=a*b\n",
        "f=a/b\n",
        "print(s)\n",
        "print(r)\n",
        "print(t)\n",
        "print(f)\n"
      ],
      "metadata": {
        "colab": {
          "base_uri": "https://localhost:8080/"
        },
        "id": "QuPQkeB5yPsD",
        "outputId": "2893ee24-9d94-4bb9-a51c-6eaf17358ffb"
      },
      "execution_count": null,
      "outputs": [
        {
          "output_type": "stream",
          "name": "stdout",
          "text": [
            "enter a number6\n",
            "enter a number7\n",
            "13\n",
            "-1\n",
            "42\n",
            "0.8571428571428571\n"
          ]
        }
      ]
    },
    {
      "cell_type": "markdown",
      "source": [
        "conversion of celsuis to farenheat and vice versa"
      ],
      "metadata": {
        "id": "eRb9jgVB0pup"
      }
    },
    {
      "cell_type": "code",
      "source": [
        "fer=float(input(\"enter a number\"))\n",
        "cel=(fer-32)*5/9\n",
        "print(cel)"
      ],
      "metadata": {
        "colab": {
          "base_uri": "https://localhost:8080/"
        },
        "id": "Ka8P73r2zhFq",
        "outputId": "7aed2b71-4117-4ae1-a8ec-1036fc8fa0f7"
      },
      "execution_count": null,
      "outputs": [
        {
          "output_type": "stream",
          "name": "stdout",
          "text": [
            "enter a number678\n",
            "358.8888888888889\n"
          ]
        }
      ]
    },
    {
      "cell_type": "code",
      "source": [
        "cel=float(input('enter a number'))\n",
        "fer=(cel*9/5)+32\n",
        "print(fer)"
      ],
      "metadata": {
        "colab": {
          "base_uri": "https://localhost:8080/"
        },
        "id": "P-u-conn1ZXd",
        "outputId": "35b6f6cc-8f48-47e8-83e1-e23dda6e70ba"
      },
      "execution_count": null,
      "outputs": [
        {
          "output_type": "stream",
          "name": "stdout",
          "text": [
            "enter a number678\n",
            "1252.4\n"
          ]
        }
      ]
    },
    {
      "cell_type": "code",
      "source": [
        "a =int(input('enter a number'))\n",
        "if a<0:\n",
        "  print('a in negative')\n",
        "elif a>0:\n",
        "  print('a is postive')\n",
        "elif a==0:\n",
        "  print('a in equal to zero')"
      ],
      "metadata": {
        "colab": {
          "base_uri": "https://localhost:8080/"
        },
        "id": "oKu30PDe3LuU",
        "outputId": "1b8ca700-bf25-41ad-d380-d8042c58202c"
      },
      "execution_count": null,
      "outputs": [
        {
          "output_type": "stream",
          "name": "stdout",
          "text": [
            "enter a number778\n",
            "a is postive\n"
          ]
        }
      ]
    },
    {
      "cell_type": "code",
      "source": [
        "y=int(input('enter the year'))\n",
        "if(y%4==0):\n",
        "  print('it is a leap year')\n",
        "elif(y%4!=0):\n",
        "  print('it is not a leap year')\n",
        "elif(y%400==0):\n",
        " print('it is a leap year')\n",
        "elif(y/400!=0):\n",
        " print(\"it is not a leap year\")\n"
      ],
      "metadata": {
        "colab": {
          "base_uri": "https://localhost:8080/"
        },
        "id": "mdA0ThI76SzV",
        "outputId": "63f7c491-c693-4006-e700-1107f30d9a53"
      },
      "execution_count": null,
      "outputs": [
        {
          "output_type": "stream",
          "name": "stdout",
          "text": [
            "enter the year2004\n",
            "it is a leap year\n"
          ]
        }
      ]
    },
    {
      "cell_type": "code",
      "source": [
        "a =int(input('enter a number'))\n",
        "if(a>90):\n",
        " print('A')\n",
        "elif(a>80):\n",
        "  print('B')\n",
        "elif(a>70):\n",
        "  print('C')\n",
        "elif(a>60):\n",
        "  print('D')\n",
        "else:\n",
        "  print('F')"
      ],
      "metadata": {
        "colab": {
          "base_uri": "https://localhost:8080/"
        },
        "id": "Cl2QBpjz9hyd",
        "outputId": "cb984759-1aa6-4d69-bf4d-41ca613ecc5c"
      },
      "execution_count": null,
      "outputs": [
        {
          "output_type": "stream",
          "name": "stdout",
          "text": [
            "enter a number78\n",
            "C\n"
          ]
        }
      ]
    },
    {
      "cell_type": "code",
      "source": [
        "for num in range(10,0,-1):\n",
        "  print(num)"
      ],
      "metadata": {
        "colab": {
          "base_uri": "https://localhost:8080/"
        },
        "id": "Yp-luYrIB4R0",
        "outputId": "c211e038-d004-4146-b009-427e1afa37ca"
      },
      "execution_count": null,
      "outputs": [
        {
          "output_type": "stream",
          "name": "stdout",
          "text": [
            "10\n",
            "9\n",
            "8\n",
            "7\n",
            "6\n",
            "5\n",
            "4\n",
            "3\n",
            "2\n",
            "1\n"
          ]
        }
      ]
    },
    {
      "cell_type": "code",
      "source": [
        "for i in range(2,22,2):\n",
        "  print (i)\n"
      ],
      "metadata": {
        "colab": {
          "base_uri": "https://localhost:8080/"
        },
        "id": "gb43ZSQ9JLUv",
        "outputId": "9e484e62-3509-40b3-8990-2555ec921b86"
      },
      "execution_count": null,
      "outputs": [
        {
          "output_type": "stream",
          "name": "stdout",
          "text": [
            "2\n",
            "4\n",
            "6\n",
            "8\n",
            "10\n",
            "12\n",
            "14\n",
            "16\n",
            "18\n",
            "20\n"
          ]
        }
      ]
    },
    {
      "cell_type": "code",
      "source": [
        "i=int(input('enter a number'))\n",
        "for n in range(1,11):\n",
        " print(n,'x',i,'=',n*i)"
      ],
      "metadata": {
        "colab": {
          "base_uri": "https://localhost:8080/"
        },
        "id": "Xp6_cntwJroR",
        "outputId": "508eefeb-c167-4201-b515-555ba0d36416"
      },
      "execution_count": null,
      "outputs": [
        {
          "output_type": "stream",
          "name": "stdout",
          "text": [
            "enter a number5\n",
            "1 x 5 = 5\n",
            "2 x 5 = 10\n",
            "3 x 5 = 15\n",
            "4 x 5 = 20\n",
            "5 x 5 = 25\n",
            "6 x 5 = 30\n",
            "7 x 5 = 35\n",
            "8 x 5 = 40\n",
            "9 x 5 = 45\n",
            "10 x 5 = 50\n"
          ]
        }
      ]
    },
    {
      "cell_type": "code",
      "source": [],
      "metadata": {
        "id": "qWxXJ1EqLgVW"
      },
      "execution_count": null,
      "outputs": []
    }
  ]
}