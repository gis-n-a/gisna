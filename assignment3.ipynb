{
  "nbformat": 4,
  "nbformat_minor": 0,
  "metadata": {
    "colab": {
      "provenance": []
    },
    "kernelspec": {
      "name": "python3",
      "display_name": "Python 3"
    },
    "language_info": {
      "name": "python"
    }
  },
  "cells": [
    {
      "cell_type": "code",
      "execution_count": 7,
      "metadata": {
        "id": "crYLlWKdrY7e"
      },
      "outputs": [],
      "source": [
        "import numpy as np"
      ]
    },
    {
      "cell_type": "markdown",
      "source": [
        "1.) Create a NumPy array of integers from 1 to 10."
      ],
      "metadata": {
        "id": "AK88BNzr9VDy"
      }
    },
    {
      "cell_type": "code",
      "source": [
        "np.arange(1,11)"
      ],
      "metadata": {
        "colab": {
          "base_uri": "https://localhost:8080/"
        },
        "id": "vOjkIsBwr4d5",
        "outputId": "b2e7b165-84db-45c2-e799-b8b00bcc3219"
      },
      "execution_count": null,
      "outputs": [
        {
          "output_type": "execute_result",
          "data": {
            "text/plain": [
              "array([ 1,  2,  3,  4,  5,  6,  7,  8,  9, 10])"
            ]
          },
          "metadata": {},
          "execution_count": 2
        }
      ]
    },
    {
      "cell_type": "markdown",
      "source": [
        "2.) Create a 2x3 NumPy array filled with zeros."
      ],
      "metadata": {
        "id": "MYyhlcFt9aCV"
      }
    },
    {
      "cell_type": "code",
      "source": [
        "np.zeros((2,3))"
      ],
      "metadata": {
        "colab": {
          "base_uri": "https://localhost:8080/"
        },
        "id": "cRAN4xVdr8xD",
        "outputId": "2173e8c0-2eac-430e-b2e6-30333472ee3d"
      },
      "execution_count": null,
      "outputs": [
        {
          "output_type": "execute_result",
          "data": {
            "text/plain": [
              "array([[0., 0., 0.],\n",
              "       [0., 0., 0.]])"
            ]
          },
          "metadata": {},
          "execution_count": 3
        }
      ]
    },
    {
      "cell_type": "markdown",
      "source": [
        "3.) Create a NumPy array of even numbers from 2 to 20."
      ],
      "metadata": {
        "id": "Vlgid6yo9gs9"
      }
    },
    {
      "cell_type": "code",
      "source": [
        "np.arange(2,21,2)"
      ],
      "metadata": {
        "colab": {
          "base_uri": "https://localhost:8080/"
        },
        "id": "_U8UF09gsDG-",
        "outputId": "b6852a16-bc16-4e78-d53f-1096636127fb"
      },
      "execution_count": null,
      "outputs": [
        {
          "output_type": "execute_result",
          "data": {
            "text/plain": [
              "array([ 2,  4,  6,  8, 10, 12, 14, 16, 18, 20])"
            ]
          },
          "metadata": {},
          "execution_count": 4
        }
      ]
    },
    {
      "cell_type": "markdown",
      "source": [
        "4.)Given two NumPy arrays, arr1 = np.array([1, 2, 3]) and arr2 = np.array([4, 5, 6]), perform element-wise addition, subtraction, multiplication, and division between the two arrays."
      ],
      "metadata": {
        "id": "jdXQG9Cksujq"
      }
    },
    {
      "cell_type": "code",
      "source": [
        "arr1=np.array([1,2,3])\n",
        "arr1\n"
      ],
      "metadata": {
        "colab": {
          "base_uri": "https://localhost:8080/"
        },
        "id": "eN5Wrrh8sLzO",
        "outputId": "e4ec6188-f01d-456c-9597-47affd00c2e9"
      },
      "execution_count": null,
      "outputs": [
        {
          "output_type": "execute_result",
          "data": {
            "text/plain": [
              "array([1, 2, 3])"
            ]
          },
          "metadata": {},
          "execution_count": 8
        }
      ]
    },
    {
      "cell_type": "code",
      "source": [
        "arr2=np.array([4,5,6])\n",
        "arr2\n"
      ],
      "metadata": {
        "colab": {
          "base_uri": "https://localhost:8080/"
        },
        "id": "PDwG3SWGsp4d",
        "outputId": "efb323ab-62cd-4753-9248-5fc80a43e95a"
      },
      "execution_count": null,
      "outputs": [
        {
          "output_type": "execute_result",
          "data": {
            "text/plain": [
              "array([4, 5, 6])"
            ]
          },
          "metadata": {},
          "execution_count": 10
        }
      ]
    },
    {
      "cell_type": "code",
      "source": [
        "arr3=arr1+arr2\n",
        "arr3"
      ],
      "metadata": {
        "colab": {
          "base_uri": "https://localhost:8080/"
        },
        "id": "IPrOdIx9s1n2",
        "outputId": "a35b525c-e6c1-4733-f7be-e3739487693d"
      },
      "execution_count": null,
      "outputs": [
        {
          "output_type": "execute_result",
          "data": {
            "text/plain": [
              "array([5, 7, 9])"
            ]
          },
          "metadata": {},
          "execution_count": 11
        }
      ]
    },
    {
      "cell_type": "code",
      "source": [
        "arr4=arr1-arr2\n",
        "arr4"
      ],
      "metadata": {
        "colab": {
          "base_uri": "https://localhost:8080/"
        },
        "id": "wvS9LofRtDaM",
        "outputId": "15f8a73d-de19-4a5b-dfb2-abf5267c2953"
      },
      "execution_count": null,
      "outputs": [
        {
          "output_type": "execute_result",
          "data": {
            "text/plain": [
              "array([-3, -3, -3])"
            ]
          },
          "metadata": {},
          "execution_count": 13
        }
      ]
    },
    {
      "cell_type": "code",
      "source": [
        "arr5=arr1*arr2\n",
        "arr5"
      ],
      "metadata": {
        "colab": {
          "base_uri": "https://localhost:8080/"
        },
        "id": "ZDvLj6M4tKdT",
        "outputId": "ba0fce19-32b6-4364-aa8f-73e14811d360"
      },
      "execution_count": null,
      "outputs": [
        {
          "output_type": "execute_result",
          "data": {
            "text/plain": [
              "array([ 4, 10, 18])"
            ]
          },
          "metadata": {},
          "execution_count": 14
        }
      ]
    },
    {
      "cell_type": "code",
      "source": [
        "arr6=arr1/arr2\n",
        "arr6"
      ],
      "metadata": {
        "colab": {
          "base_uri": "https://localhost:8080/"
        },
        "id": "ujirud45tSdS",
        "outputId": "2dc862e4-6ecf-415e-c6e0-a5b765b458cd"
      },
      "execution_count": null,
      "outputs": [
        {
          "output_type": "execute_result",
          "data": {
            "text/plain": [
              "array([0.25, 0.4 , 0.5 ])"
            ]
          },
          "metadata": {},
          "execution_count": 15
        }
      ]
    },
    {
      "cell_type": "markdown",
      "source": [
        "5.) Compute the mean, median, and standard deviation of a NumPy array containing 100 random numbers."
      ],
      "metadata": {
        "id": "pzcMUg8BuLSj"
      }
    },
    {
      "cell_type": "code",
      "source": [
        "arr4=np.random.rand(100)"
      ],
      "metadata": {
        "id": "jJ4QDztDtWHi"
      },
      "execution_count": 31,
      "outputs": []
    },
    {
      "cell_type": "code",
      "source": [
        "arr4"
      ],
      "metadata": {
        "colab": {
          "base_uri": "https://localhost:8080/"
        },
        "id": "Ge8t3eicuLNR",
        "outputId": "d4ecb278-eacd-49c8-dbfd-62c1984d71f1"
      },
      "execution_count": 32,
      "outputs": [
        {
          "output_type": "execute_result",
          "data": {
            "text/plain": [
              "array([0.0154298 , 0.7577385 , 0.84667635, 0.8856286 , 0.0756722 ,\n",
              "       0.42879826, 0.01490343, 0.04157269, 0.09913708, 0.20774037,\n",
              "       0.36710029, 0.32695078, 0.22126144, 0.88131501, 0.16658361,\n",
              "       0.69914898, 0.05201696, 0.77767106, 0.58165781, 0.21935692,\n",
              "       0.86639074, 0.34359051, 0.33239378, 0.83337512, 0.49346717,\n",
              "       0.68114631, 0.94286487, 0.02306987, 0.28613162, 0.30296603,\n",
              "       0.10193847, 0.41575781, 0.88112435, 0.94216525, 0.10004957,\n",
              "       0.74938226, 0.51161877, 0.4607247 , 0.66745865, 0.63395051,\n",
              "       0.47442495, 0.88446598, 0.6537878 , 0.44159061, 0.77365598,\n",
              "       0.86627324, 0.48023118, 0.04246178, 0.16078896, 0.38921601,\n",
              "       0.4014356 , 0.34623842, 0.8471683 , 0.52987124, 0.65371995,\n",
              "       0.81264197, 0.4445075 , 0.28737985, 0.86236236, 0.34320478,\n",
              "       0.91065785, 0.81496133, 0.30623001, 0.85343539, 0.25701625,\n",
              "       0.31054461, 0.73061489, 0.58179352, 0.44463594, 0.79481138,\n",
              "       0.95579034, 0.68819322, 0.07726409, 0.8118219 , 0.42490847,\n",
              "       0.59301883, 0.95185243, 0.44693591, 0.49296684, 0.62684124,\n",
              "       0.92136532, 0.1313188 , 0.21886173, 0.10507535, 0.80964076,\n",
              "       0.82460346, 0.39591476, 0.90332765, 0.67015251, 0.98386239,\n",
              "       0.91643752, 0.9251108 , 0.39212413, 0.21014218, 0.21620619,\n",
              "       0.99283097, 0.25091524, 0.0231834 , 0.00594801, 0.01160493])"
            ]
          },
          "metadata": {},
          "execution_count": 32
        }
      ]
    },
    {
      "cell_type": "code",
      "source": [
        "arr5=arr4.mean()\n",
        "arr5"
      ],
      "metadata": {
        "colab": {
          "base_uri": "https://localhost:8080/"
        },
        "id": "2spVB6ERuXhb",
        "outputId": "67a8e161-c37b-4652-81dd-2ef14b7bb6f2"
      },
      "execution_count": null,
      "outputs": [
        {
          "output_type": "execute_result",
          "data": {
            "text/plain": [
              "0.5516581141218442"
            ]
          },
          "metadata": {},
          "execution_count": 20
        }
      ]
    },
    {
      "cell_type": "markdown",
      "source": [
        "6.) Reshape a 1D NumPy array of 12 random elements into a 2D array with a shape of (3, 4)."
      ],
      "metadata": {
        "id": "jvQ8h8dlyAkv"
      }
    },
    {
      "cell_type": "code",
      "source": [
        "arr6=np.random.randint(0,20,12)\n",
        "arr6"
      ],
      "metadata": {
        "colab": {
          "base_uri": "https://localhost:8080/"
        },
        "id": "PGyAU6AquqC7",
        "outputId": "54ce0248-f44e-413d-91e8-815241048cc1"
      },
      "execution_count": null,
      "outputs": [
        {
          "output_type": "execute_result",
          "data": {
            "text/plain": [
              "array([11,  8,  7,  3,  9,  0,  5,  1,  0, 13, 19, 12])"
            ]
          },
          "metadata": {},
          "execution_count": 22
        }
      ]
    },
    {
      "cell_type": "code",
      "source": [
        "arr7=arr6.reshape(3,4)\n",
        "arr7"
      ],
      "metadata": {
        "colab": {
          "base_uri": "https://localhost:8080/"
        },
        "id": "assOz120vODK",
        "outputId": "fd060f98-24ae-4905-c21b-72ad113e3521"
      },
      "execution_count": null,
      "outputs": [
        {
          "output_type": "execute_result",
          "data": {
            "text/plain": [
              "array([[11,  8,  7,  3],\n",
              "       [ 9,  0,  5,  1],\n",
              "       [ 0, 13, 19, 12]])"
            ]
          },
          "metadata": {},
          "execution_count": 23
        }
      ]
    },
    {
      "cell_type": "markdown",
      "source": [
        "7.) Given a NumPy array arr = np.array([1, 2, 3, 4, 5]), square each element in the array using NumPy functions."
      ],
      "metadata": {
        "id": "5aZNBWDRx77Z"
      }
    },
    {
      "cell_type": "code",
      "source": [
        "arr=np.array([1,2,3,4,5])\n",
        "arr"
      ],
      "metadata": {
        "colab": {
          "base_uri": "https://localhost:8080/"
        },
        "id": "aKtVoKaRvx_q",
        "outputId": "cd0cf813-9e22-4682-b65d-e455bb567446"
      },
      "execution_count": null,
      "outputs": [
        {
          "output_type": "execute_result",
          "data": {
            "text/plain": [
              "array([1, 2, 3, 4, 5])"
            ]
          },
          "metadata": {},
          "execution_count": 24
        }
      ]
    },
    {
      "cell_type": "code",
      "source": [
        "np.square(arr)"
      ],
      "metadata": {
        "colab": {
          "base_uri": "https://localhost:8080/"
        },
        "id": "BwVyA93hwNAK",
        "outputId": "ed11579d-e9ed-4f1c-f9fd-f11ce479ebf0"
      },
      "execution_count": null,
      "outputs": [
        {
          "output_type": "execute_result",
          "data": {
            "text/plain": [
              "array([ 1,  4,  9, 16, 25])"
            ]
          },
          "metadata": {},
          "execution_count": 27
        }
      ]
    },
    {
      "cell_type": "markdown",
      "source": [
        "8.) Create a 5x5 identity matrix using NumPy."
      ],
      "metadata": {
        "id": "dM4EgeXeuiq4"
      }
    },
    {
      "cell_type": "code",
      "source": [
        "arr=np.eye(5,5)\n",
        "arr"
      ],
      "metadata": {
        "colab": {
          "base_uri": "https://localhost:8080/"
        },
        "id": "9sAS5dkmwZO6",
        "outputId": "f309fb66-ff81-4290-a3fe-1de55bae04bc"
      },
      "execution_count": null,
      "outputs": [
        {
          "output_type": "execute_result",
          "data": {
            "text/plain": [
              "array([[1., 0., 0., 0., 0.],\n",
              "       [0., 1., 0., 0., 0.],\n",
              "       [0., 0., 1., 0., 0.],\n",
              "       [0., 0., 0., 1., 0.],\n",
              "       [0., 0., 0., 0., 1.]])"
            ]
          },
          "metadata": {},
          "execution_count": 9
        }
      ]
    },
    {
      "cell_type": "markdown",
      "source": [
        "9.) Calculate the dot product of two NumPy arrays, a = np.array([1, 2, 3]) and b = np.array([4, 5, 6])."
      ],
      "metadata": {
        "id": "hkFl0XY1uqVB"
      }
    },
    {
      "cell_type": "code",
      "source": [
        "a=np.array([1,2,3])\n",
        "b=np.array([4,5,6])\n",
        "a.dot(b)\n"
      ],
      "metadata": {
        "id": "KPzj0GoqwzTJ",
        "colab": {
          "base_uri": "https://localhost:8080/"
        },
        "outputId": "17e6f187-8ca4-4dfe-accb-85749a5cbf76"
      },
      "execution_count": null,
      "outputs": [
        {
          "output_type": "execute_result",
          "data": {
            "text/plain": [
              "32"
            ]
          },
          "metadata": {},
          "execution_count": 8
        }
      ]
    },
    {
      "cell_type": "markdown",
      "source": [
        "10.) Find the index of the maximum value and the index of the minimum value in a NumPy array."
      ],
      "metadata": {
        "id": "d9anZfKychBY"
      }
    },
    {
      "cell_type": "code",
      "source": [
        "arr8=np.arange(1,50,2)\n",
        "arr8\n",
        "arr8.argmax()\n",
        "\n"
      ],
      "metadata": {
        "colab": {
          "base_uri": "https://localhost:8080/"
        },
        "id": "g-3kvg-jDQ-h",
        "outputId": "7dfcf5ab-a561-478b-d100-d6f87c7bbd31"
      },
      "execution_count": null,
      "outputs": [
        {
          "output_type": "execute_result",
          "data": {
            "text/plain": [
              "24"
            ]
          },
          "metadata": {},
          "execution_count": 13
        }
      ]
    },
    {
      "cell_type": "code",
      "source": [
        "arr8.argmin()"
      ],
      "metadata": {
        "colab": {
          "base_uri": "https://localhost:8080/"
        },
        "id": "Ln9H0BwoZaA8",
        "outputId": "d5303317-60a7-4c11-a71a-d5780c072d08"
      },
      "execution_count": null,
      "outputs": [
        {
          "output_type": "execute_result",
          "data": {
            "text/plain": [
              "0"
            ]
          },
          "metadata": {},
          "execution_count": 15
        }
      ]
    },
    {
      "cell_type": "markdown",
      "source": [
        "11.) Concatenate two random NumPy arrays horizontally and vertically."
      ],
      "metadata": {
        "id": "olPIKJ15u_FF"
      }
    },
    {
      "cell_type": "code",
      "source": [
        "a=np.random.rand(3,4)\n",
        "a\n",
        "\n",
        "\n"
      ],
      "metadata": {
        "id": "eJLVhrDKckEU",
        "colab": {
          "base_uri": "https://localhost:8080/"
        },
        "outputId": "a06368f8-9819-42de-f5d5-353be436aed6"
      },
      "execution_count": null,
      "outputs": [
        {
          "output_type": "execute_result",
          "data": {
            "text/plain": [
              "array([[0.75535409, 0.87147623, 0.1298756 , 0.63616089],\n",
              "       [0.68108772, 0.11804329, 0.22954996, 0.5855338 ],\n",
              "       [0.62797779, 0.18543105, 0.04391115, 0.14239775]])"
            ]
          },
          "metadata": {},
          "execution_count": 24
        }
      ]
    },
    {
      "cell_type": "code",
      "source": [
        "b=np.random.rand(3,4)\n",
        "b\n"
      ],
      "metadata": {
        "colab": {
          "base_uri": "https://localhost:8080/"
        },
        "id": "OLcORClmfyaw",
        "outputId": "af4a5a7f-fcfa-40f9-99b3-3cf7790deaf5"
      },
      "execution_count": null,
      "outputs": [
        {
          "output_type": "execute_result",
          "data": {
            "text/plain": [
              "array([[0.05077729, 0.03600175, 0.69437185, 0.65914706],\n",
              "       [0.60023037, 0.82134384, 0.07637072, 0.46399997],\n",
              "       [0.2986836 , 0.19165744, 0.65877446, 0.83347203]])"
            ]
          },
          "metadata": {},
          "execution_count": 25
        }
      ]
    },
    {
      "cell_type": "code",
      "source": [
        "np.concatenate([a,b])"
      ],
      "metadata": {
        "colab": {
          "base_uri": "https://localhost:8080/"
        },
        "id": "gQWL_ZAsgBWx",
        "outputId": "c01efb72-8c88-4337-ddd3-91e935e8827d"
      },
      "execution_count": null,
      "outputs": [
        {
          "output_type": "execute_result",
          "data": {
            "text/plain": [
              "array([[0.75535409, 0.87147623, 0.1298756 , 0.63616089],\n",
              "       [0.68108772, 0.11804329, 0.22954996, 0.5855338 ],\n",
              "       [0.62797779, 0.18543105, 0.04391115, 0.14239775],\n",
              "       [0.05077729, 0.03600175, 0.69437185, 0.65914706],\n",
              "       [0.60023037, 0.82134384, 0.07637072, 0.46399997],\n",
              "       [0.2986836 , 0.19165744, 0.65877446, 0.83347203]])"
            ]
          },
          "metadata": {},
          "execution_count": 28
        }
      ]
    },
    {
      "cell_type": "code",
      "source": [
        "np.concatenate((a,b),axis=1)"
      ],
      "metadata": {
        "colab": {
          "base_uri": "https://localhost:8080/"
        },
        "id": "aRL2k4wggcSH",
        "outputId": "b6bb0aa7-c5b0-4c04-82d8-b71925a058ec"
      },
      "execution_count": null,
      "outputs": [
        {
          "output_type": "execute_result",
          "data": {
            "text/plain": [
              "array([[0.75535409, 0.87147623, 0.1298756 , 0.63616089, 0.05077729,\n",
              "        0.03600175, 0.69437185, 0.65914706],\n",
              "       [0.68108772, 0.11804329, 0.22954996, 0.5855338 , 0.60023037,\n",
              "        0.82134384, 0.07637072, 0.46399997],\n",
              "       [0.62797779, 0.18543105, 0.04391115, 0.14239775, 0.2986836 ,\n",
              "        0.19165744, 0.65877446, 0.83347203]])"
            ]
          },
          "metadata": {},
          "execution_count": 32
        }
      ]
    },
    {
      "cell_type": "markdown",
      "source": [
        "12.)Given a 2D NumPy array, calculate the sum of each row and each column separately"
      ],
      "metadata": {
        "id": "0aUaDq9AwBl5"
      }
    },
    {
      "cell_type": "code",
      "source": [
        "arr=np.arange(1,17).reshape(4,4)\n",
        "print(arr)\n",
        "print(\"Sum of each column is\",np.sum(arr,axis=0))\n",
        "print(\"Sum of each row is\",np.sum(arr,axis=1))"
      ],
      "metadata": {
        "colab": {
          "base_uri": "https://localhost:8080/"
        },
        "id": "Edr5qsZemSjl",
        "outputId": "9b39b737-7866-490c-809c-80c17eef3ba5"
      },
      "execution_count": 11,
      "outputs": [
        {
          "output_type": "stream",
          "name": "stdout",
          "text": [
            "[[ 1  2  3  4]\n",
            " [ 5  6  7  8]\n",
            " [ 9 10 11 12]\n",
            " [13 14 15 16]]\n",
            "Sum of each column is [28 32 36 40]\n",
            "Sum of each row is [10 26 42 58]\n"
          ]
        }
      ]
    },
    {
      "cell_type": "markdown",
      "source": [
        "13.)Find the common elements between two NumPy arrays."
      ],
      "metadata": {
        "id": "3oRm30qxwR0r"
      }
    },
    {
      "cell_type": "code",
      "source": [
        "a=np.array([[4,9],[5,8],[1,7]])\n",
        "b=np.array([[3,9],[5,2],[6,7]])\n",
        "c=np.intersect1d(a,b)\n",
        "print(\"the common elements between a and b are\",c)"
      ],
      "metadata": {
        "colab": {
          "base_uri": "https://localhost:8080/"
        },
        "id": "T4pAwTQYoZ-h",
        "outputId": "1f5bcf1e-01ab-419b-f964-c0895c2ed24c"
      },
      "execution_count": 15,
      "outputs": [
        {
          "output_type": "stream",
          "name": "stdout",
          "text": [
            "the common elements between a and b are [5 7 9]\n"
          ]
        }
      ]
    },
    {
      "cell_type": "markdown",
      "source": [
        "14.) Replace all negative values in a NumPy array with zeros."
      ],
      "metadata": {
        "id": "xVpWWhWJwYze"
      }
    },
    {
      "cell_type": "code",
      "source": [
        "x=np.array([1,2,3,-4,-5,-6])\n",
        "x[x<0]=0\n",
        "x"
      ],
      "metadata": {
        "colab": {
          "base_uri": "https://localhost:8080/"
        },
        "id": "sC5haeG6pQuq",
        "outputId": "ada99cbc-e83d-4989-f54e-5d13f1e2a166"
      },
      "execution_count": 16,
      "outputs": [
        {
          "output_type": "execute_result",
          "data": {
            "text/plain": [
              "array([1, 2, 3, 0, 0, 0])"
            ]
          },
          "metadata": {},
          "execution_count": 16
        }
      ]
    },
    {
      "cell_type": "markdown",
      "source": [
        "15.)Create a NumPy array with random integers between 1 and 100 and then\n",
        "sort it in ascending order."
      ],
      "metadata": {
        "id": "SVUi3p2XwsLQ"
      }
    },
    {
      "cell_type": "code",
      "source": [
        "arr1=np.random.randint(1,101,100)\n",
        "arr1.sort()\n",
        "arr1"
      ],
      "metadata": {
        "colab": {
          "base_uri": "https://localhost:8080/"
        },
        "id": "u1bZdxLCpjFd",
        "outputId": "91e09a6c-aab4-42b5-f2ab-6bb1f59a880c"
      },
      "execution_count": 19,
      "outputs": [
        {
          "output_type": "execute_result",
          "data": {
            "text/plain": [
              "array([  1,   2,   2,   2,   4,   6,   8,  11,  11,  12,  12,  14,  14,\n",
              "        15,  17,  17,  18,  19,  21,  21,  24,  24,  28,  28,  28,  30,\n",
              "        31,  32,  32,  33,  34,  37,  37,  38,  38,  40,  40,  41,  42,\n",
              "        42,  44,  44,  44,  45,  49,  52,  52,  52,  53,  53,  53,  54,\n",
              "        54,  54,  54,  55,  55,  56,  56,  56,  56,  57,  58,  58,  58,\n",
              "        58,  58,  59,  62,  63,  63,  66,  67,  67,  71,  73,  74,  75,\n",
              "        76,  76,  78,  79,  81,  82,  83,  84,  85,  85,  85,  88,  88,\n",
              "        90,  91,  91,  93,  93,  95,  95,  97, 100])"
            ]
          },
          "metadata": {},
          "execution_count": 19
        }
      ]
    },
    {
      "cell_type": "markdown",
      "source": [
        "16.) Calculate the element-wise absolute difference between two NumPy\n",
        "arrays"
      ],
      "metadata": {
        "id": "n3R2YE-CxG3-"
      }
    },
    {
      "cell_type": "code",
      "source": [
        "a=np.array([1,2,3,4,5,])\n",
        "b=np.array([6,8,10,12,14])\n",
        "c=np.absolute(a-b)\n",
        "print(c)"
      ],
      "metadata": {
        "colab": {
          "base_uri": "https://localhost:8080/"
        },
        "id": "8uTeX-fbpzq5",
        "outputId": "3498d066-b658-418d-b2b2-e8a7949f13db"
      },
      "execution_count": 21,
      "outputs": [
        {
          "output_type": "stream",
          "name": "stdout",
          "text": [
            "[5 6 7 8 9]\n"
          ]
        }
      ]
    },
    {
      "cell_type": "markdown",
      "source": [
        "17.) Given a 2D NumPy array, extract the first row and the last column."
      ],
      "metadata": {
        "id": "kgo6lGt2xL6b"
      }
    },
    {
      "cell_type": "code",
      "source": [
        "arr=np.array([[1,2,3],[4,5,6],[7,8,9]])\n",
        "firstrow=arr[0]\n",
        "lastcol=arr[:,[-1]]\n",
        "print(firstrow)\n",
        "print(lastcol)"
      ],
      "metadata": {
        "colab": {
          "base_uri": "https://localhost:8080/"
        },
        "id": "qMVAiC7HqKBU",
        "outputId": "d9324603-7072-46be-8536-70bb3f3a49a6"
      },
      "execution_count": 23,
      "outputs": [
        {
          "output_type": "stream",
          "name": "stdout",
          "text": [
            "[1 2 3]\n",
            "[[3]\n",
            " [6]\n",
            " [9]]\n"
          ]
        }
      ]
    },
    {
      "cell_type": "markdown",
      "source": [
        "18.) Slice a 1D NumPy array to get every other element."
      ],
      "metadata": {
        "id": "9BwyIfPhxQEO"
      }
    },
    {
      "cell_type": "code",
      "source": [
        "a=np.array([1,2,3,4,5])\n",
        "x=a[0:len(a)+1]\n",
        "print(x)"
      ],
      "metadata": {
        "colab": {
          "base_uri": "https://localhost:8080/"
        },
        "id": "FA_OTuw8qyC1",
        "outputId": "63349f36-e2d0-47ac-a2d2-f35e04017755"
      },
      "execution_count": 25,
      "outputs": [
        {
          "output_type": "stream",
          "name": "stdout",
          "text": [
            "[1 2 3 4 5]\n"
          ]
        }
      ]
    },
    {
      "cell_type": "markdown",
      "source": [
        "19.)\n",
        "Given a 2D NumPy array, extract a subarray consisting of the central 2x2\n",
        "elements."
      ],
      "metadata": {
        "id": "hFP57huCxbOm"
      }
    },
    {
      "cell_type": "code",
      "source": [
        "arr=np.array([[10,1,14,16,18,20],[22,24,26,28,30,32],[34,36,38,40,42,44],[46,48,50,52,54,56],[58,60,62,64,66,68],[70,72,74,76,78,80]])\n",
        "x=arr[2:4,[2,3]]\n",
        "print(arr)\n",
        "print(\"central 2x2 elements include\\n\",x)"
      ],
      "metadata": {
        "colab": {
          "base_uri": "https://localhost:8080/"
        },
        "id": "EjfZATdFrCi4",
        "outputId": "5c20a37b-88a9-43c6-d5a0-ec03b7c80e71"
      },
      "execution_count": 29,
      "outputs": [
        {
          "output_type": "stream",
          "name": "stdout",
          "text": [
            "[[10  1 14 16 18 20]\n",
            " [22 24 26 28 30 32]\n",
            " [34 36 38 40 42 44]\n",
            " [46 48 50 52 54 56]\n",
            " [58 60 62 64 66 68]\n",
            " [70 72 74 76 78 80]]\n",
            "central 2x2 elements include\n",
            " [[38 40]\n",
            " [50 52]]\n"
          ]
        }
      ]
    },
    {
      "cell_type": "markdown",
      "source": [
        "20.) Reverse a 1D NumPy array using slicing."
      ],
      "metadata": {
        "id": "ppUKXy4-xfNd"
      }
    },
    {
      "cell_type": "code",
      "source": [
        "a=np.array([1,2,3,4,5])\n",
        "x=a[::-1]\n",
        "x"
      ],
      "metadata": {
        "colab": {
          "base_uri": "https://localhost:8080/"
        },
        "id": "dLZQokphsJrb",
        "outputId": "5dc21128-bafb-4bad-eacb-b5e3da00fc64"
      },
      "execution_count": 30,
      "outputs": [
        {
          "output_type": "execute_result",
          "data": {
            "text/plain": [
              "array([5, 4, 3, 2, 1])"
            ]
          },
          "metadata": {},
          "execution_count": 30
        }
      ]
    }
  ]
}